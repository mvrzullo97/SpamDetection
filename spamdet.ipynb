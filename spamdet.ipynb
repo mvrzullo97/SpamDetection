{
 "cells": [
  {
   "cell_type": "code",
   "execution_count": 35,
   "metadata": {},
   "outputs": [],
   "source": [
    "import string\n",
    "import pandas as pd\n",
    "import re\n",
    "import nltk\n",
    "from nltk.tokenize import word_tokenize\n",
    "from nltk.stem import WordNetLemmatizer\n",
    "import numpy as np\n",
    "from collections import Counter\n",
    "from sklearn.feature_extraction.text import CountVectorizer\n",
    "from sklearn.model_selection import train_test_split\n",
    "import math\n",
    "from sklearn.naive_bayes import BernoulliNB\n",
    "from sklearn.metrics import accuracy_score, classification_report, confusion_matrix, ConfusionMatrixDisplay\n",
    "import matplotlib.pyplot as plt\n"
   ]
  },
  {
   "cell_type": "code",
   "execution_count": 36,
   "metadata": {},
   "outputs": [
    {
     "name": "stdout",
     "output_type": "stream",
     "text": [
      "0    4359\n",
      "1    1368\n",
      "Name: label, dtype: int64\n"
     ]
    }
   ],
   "source": [
    "df = pd.read_csv('YOUR_PATH/emails.csv')\n",
    "df.rename(columns = {'text':'mail', 'spam':'label'}, inplace = True)\n",
    "print(df['label'].value_counts())"
   ]
  },
  {
   "cell_type": "code",
   "execution_count": 37,
   "metadata": {},
   "outputs": [
    {
     "data": {
      "text/html": [
       "<div>\n",
       "<style scoped>\n",
       "    .dataframe tbody tr th:only-of-type {\n",
       "        vertical-align: middle;\n",
       "    }\n",
       "\n",
       "    .dataframe tbody tr th {\n",
       "        vertical-align: top;\n",
       "    }\n",
       "\n",
       "    .dataframe thead th {\n",
       "        text-align: right;\n",
       "    }\n",
       "</style>\n",
       "<table border=\"1\" class=\"dataframe\">\n",
       "  <thead>\n",
       "    <tr style=\"text-align: right;\">\n",
       "      <th></th>\n",
       "      <th>mail</th>\n",
       "      <th>label</th>\n",
       "    </tr>\n",
       "  </thead>\n",
       "  <tbody>\n",
       "    <tr>\n",
       "      <th>0</th>\n",
       "      <td>Subject: naturally irresistible your corporate...</td>\n",
       "      <td>spam</td>\n",
       "    </tr>\n",
       "    <tr>\n",
       "      <th>1</th>\n",
       "      <td>Subject: the stock trading gunslinger  fanny i...</td>\n",
       "      <td>spam</td>\n",
       "    </tr>\n",
       "    <tr>\n",
       "      <th>2</th>\n",
       "      <td>Subject: unbelievable new homes made easy  im ...</td>\n",
       "      <td>spam</td>\n",
       "    </tr>\n",
       "    <tr>\n",
       "      <th>3</th>\n",
       "      <td>Subject: 4 color printing special  request add...</td>\n",
       "      <td>spam</td>\n",
       "    </tr>\n",
       "  </tbody>\n",
       "</table>\n",
       "</div>"
      ],
      "text/plain": [
       "                                                mail label\n",
       "0  Subject: naturally irresistible your corporate...  spam\n",
       "1  Subject: the stock trading gunslinger  fanny i...  spam\n",
       "2  Subject: unbelievable new homes made easy  im ...  spam\n",
       "3  Subject: 4 color printing special  request add...  spam"
      ]
     },
     "execution_count": 37,
     "metadata": {},
     "output_type": "execute_result"
    }
   ],
   "source": [
    "df['label'].replace(1,'spam', inplace=True)\n",
    "df['label'].replace(0,'ham', inplace=True)\n",
    "df.head(4)"
   ]
  },
  {
   "attachments": {},
   "cell_type": "markdown",
   "metadata": {},
   "source": [
    "Puntuation removal"
   ]
  },
  {
   "cell_type": "code",
   "execution_count": 38,
   "metadata": {},
   "outputs": [
    {
     "data": {
      "text/html": [
       "<div>\n",
       "<style scoped>\n",
       "    .dataframe tbody tr th:only-of-type {\n",
       "        vertical-align: middle;\n",
       "    }\n",
       "\n",
       "    .dataframe tbody tr th {\n",
       "        vertical-align: top;\n",
       "    }\n",
       "\n",
       "    .dataframe thead th {\n",
       "        text-align: right;\n",
       "    }\n",
       "</style>\n",
       "<table border=\"1\" class=\"dataframe\">\n",
       "  <thead>\n",
       "    <tr style=\"text-align: right;\">\n",
       "      <th></th>\n",
       "      <th>mail</th>\n",
       "      <th>label</th>\n",
       "      <th>punct_txt</th>\n",
       "    </tr>\n",
       "  </thead>\n",
       "  <tbody>\n",
       "    <tr>\n",
       "      <th>0</th>\n",
       "      <td>Subject: naturally irresistible your corporate...</td>\n",
       "      <td>spam</td>\n",
       "      <td>Subject naturally irresistible your corporate ...</td>\n",
       "    </tr>\n",
       "    <tr>\n",
       "      <th>1</th>\n",
       "      <td>Subject: the stock trading gunslinger  fanny i...</td>\n",
       "      <td>spam</td>\n",
       "      <td>Subject the stock trading gunslinger  fanny is...</td>\n",
       "    </tr>\n",
       "    <tr>\n",
       "      <th>2</th>\n",
       "      <td>Subject: unbelievable new homes made easy  im ...</td>\n",
       "      <td>spam</td>\n",
       "      <td>Subject unbelievable new homes made easy  im w...</td>\n",
       "    </tr>\n",
       "    <tr>\n",
       "      <th>3</th>\n",
       "      <td>Subject: 4 color printing special  request add...</td>\n",
       "      <td>spam</td>\n",
       "      <td>Subject 4 color printing special  request addi...</td>\n",
       "    </tr>\n",
       "  </tbody>\n",
       "</table>\n",
       "</div>"
      ],
      "text/plain": [
       "                                                mail label  \\\n",
       "0  Subject: naturally irresistible your corporate...  spam   \n",
       "1  Subject: the stock trading gunslinger  fanny i...  spam   \n",
       "2  Subject: unbelievable new homes made easy  im ...  spam   \n",
       "3  Subject: 4 color printing special  request add...  spam   \n",
       "\n",
       "                                           punct_txt  \n",
       "0  Subject naturally irresistible your corporate ...  \n",
       "1  Subject the stock trading gunslinger  fanny is...  \n",
       "2  Subject unbelievable new homes made easy  im w...  \n",
       "3  Subject 4 color printing special  request addi...  "
      ]
     },
     "execution_count": 38,
     "metadata": {},
     "output_type": "execute_result"
    }
   ],
   "source": [
    "def remove_punctuation(text):\n",
    "    punt_free = \"\".join([i for i in text if i not in string.punctuation])\n",
    "    return punt_free\n",
    "df['punct_txt'] = df['mail'].apply(lambda x:remove_punctuation(x))\n",
    "df.head(4)"
   ]
  },
  {
   "attachments": {},
   "cell_type": "markdown",
   "metadata": {},
   "source": [
    "Numbers removal"
   ]
  },
  {
   "cell_type": "code",
   "execution_count": 39,
   "metadata": {},
   "outputs": [],
   "source": [
    "def numb_removal(txt):\n",
    "    txt = re.sub(r'\\d+', '', txt)\n",
    "    return txt\n",
    "df['punct_txt'] = df['punct_txt'].apply(lambda x:numb_removal(x))\n"
   ]
  },
  {
   "attachments": {},
   "cell_type": "markdown",
   "metadata": {},
   "source": [
    "Lowercasing"
   ]
  },
  {
   "cell_type": "code",
   "execution_count": 40,
   "metadata": {},
   "outputs": [
    {
     "data": {
      "text/html": [
       "<div>\n",
       "<style scoped>\n",
       "    .dataframe tbody tr th:only-of-type {\n",
       "        vertical-align: middle;\n",
       "    }\n",
       "\n",
       "    .dataframe tbody tr th {\n",
       "        vertical-align: top;\n",
       "    }\n",
       "\n",
       "    .dataframe thead th {\n",
       "        text-align: right;\n",
       "    }\n",
       "</style>\n",
       "<table border=\"1\" class=\"dataframe\">\n",
       "  <thead>\n",
       "    <tr style=\"text-align: right;\">\n",
       "      <th></th>\n",
       "      <th>mail</th>\n",
       "      <th>label</th>\n",
       "      <th>punct_txt</th>\n",
       "      <th>low_txt</th>\n",
       "    </tr>\n",
       "  </thead>\n",
       "  <tbody>\n",
       "    <tr>\n",
       "      <th>0</th>\n",
       "      <td>Subject: naturally irresistible your corporate...</td>\n",
       "      <td>spam</td>\n",
       "      <td>Subject naturally irresistible your corporate ...</td>\n",
       "      <td>subject naturally irresistible your corporate ...</td>\n",
       "    </tr>\n",
       "    <tr>\n",
       "      <th>1</th>\n",
       "      <td>Subject: the stock trading gunslinger  fanny i...</td>\n",
       "      <td>spam</td>\n",
       "      <td>Subject the stock trading gunslinger  fanny is...</td>\n",
       "      <td>subject the stock trading gunslinger  fanny is...</td>\n",
       "    </tr>\n",
       "    <tr>\n",
       "      <th>2</th>\n",
       "      <td>Subject: unbelievable new homes made easy  im ...</td>\n",
       "      <td>spam</td>\n",
       "      <td>Subject unbelievable new homes made easy  im w...</td>\n",
       "      <td>subject unbelievable new homes made easy  im w...</td>\n",
       "    </tr>\n",
       "    <tr>\n",
       "      <th>3</th>\n",
       "      <td>Subject: 4 color printing special  request add...</td>\n",
       "      <td>spam</td>\n",
       "      <td>Subject  color printing special  request addit...</td>\n",
       "      <td>subject  color printing special  request addit...</td>\n",
       "    </tr>\n",
       "  </tbody>\n",
       "</table>\n",
       "</div>"
      ],
      "text/plain": [
       "                                                mail label  \\\n",
       "0  Subject: naturally irresistible your corporate...  spam   \n",
       "1  Subject: the stock trading gunslinger  fanny i...  spam   \n",
       "2  Subject: unbelievable new homes made easy  im ...  spam   \n",
       "3  Subject: 4 color printing special  request add...  spam   \n",
       "\n",
       "                                           punct_txt  \\\n",
       "0  Subject naturally irresistible your corporate ...   \n",
       "1  Subject the stock trading gunslinger  fanny is...   \n",
       "2  Subject unbelievable new homes made easy  im w...   \n",
       "3  Subject  color printing special  request addit...   \n",
       "\n",
       "                                             low_txt  \n",
       "0  subject naturally irresistible your corporate ...  \n",
       "1  subject the stock trading gunslinger  fanny is...  \n",
       "2  subject unbelievable new homes made easy  im w...  \n",
       "3  subject  color printing special  request addit...  "
      ]
     },
     "execution_count": 40,
     "metadata": {},
     "output_type": "execute_result"
    }
   ],
   "source": [
    "df['low_txt'] = df['punct_txt'].apply(lambda x:x.lower())\n",
    "df.head(4)"
   ]
  },
  {
   "attachments": {},
   "cell_type": "markdown",
   "metadata": {},
   "source": [
    "Tokenization"
   ]
  },
  {
   "cell_type": "code",
   "execution_count": 41,
   "metadata": {},
   "outputs": [
    {
     "data": {
      "text/html": [
       "<div>\n",
       "<style scoped>\n",
       "    .dataframe tbody tr th:only-of-type {\n",
       "        vertical-align: middle;\n",
       "    }\n",
       "\n",
       "    .dataframe tbody tr th {\n",
       "        vertical-align: top;\n",
       "    }\n",
       "\n",
       "    .dataframe thead th {\n",
       "        text-align: right;\n",
       "    }\n",
       "</style>\n",
       "<table border=\"1\" class=\"dataframe\">\n",
       "  <thead>\n",
       "    <tr style=\"text-align: right;\">\n",
       "      <th></th>\n",
       "      <th>mail</th>\n",
       "      <th>label</th>\n",
       "      <th>punct_txt</th>\n",
       "      <th>low_txt</th>\n",
       "      <th>tok_txt</th>\n",
       "    </tr>\n",
       "  </thead>\n",
       "  <tbody>\n",
       "    <tr>\n",
       "      <th>0</th>\n",
       "      <td>Subject: naturally irresistible your corporate...</td>\n",
       "      <td>spam</td>\n",
       "      <td>Subject naturally irresistible your corporate ...</td>\n",
       "      <td>subject naturally irresistible your corporate ...</td>\n",
       "      <td>[subject, naturally, irresistible, your, corpo...</td>\n",
       "    </tr>\n",
       "    <tr>\n",
       "      <th>1</th>\n",
       "      <td>Subject: the stock trading gunslinger  fanny i...</td>\n",
       "      <td>spam</td>\n",
       "      <td>Subject the stock trading gunslinger  fanny is...</td>\n",
       "      <td>subject the stock trading gunslinger  fanny is...</td>\n",
       "      <td>[subject, the, stock, trading, gunslinger, fan...</td>\n",
       "    </tr>\n",
       "    <tr>\n",
       "      <th>2</th>\n",
       "      <td>Subject: unbelievable new homes made easy  im ...</td>\n",
       "      <td>spam</td>\n",
       "      <td>Subject unbelievable new homes made easy  im w...</td>\n",
       "      <td>subject unbelievable new homes made easy  im w...</td>\n",
       "      <td>[subject, unbelievable, new, homes, made, easy...</td>\n",
       "    </tr>\n",
       "    <tr>\n",
       "      <th>3</th>\n",
       "      <td>Subject: 4 color printing special  request add...</td>\n",
       "      <td>spam</td>\n",
       "      <td>Subject  color printing special  request addit...</td>\n",
       "      <td>subject  color printing special  request addit...</td>\n",
       "      <td>[subject, color, printing, special, request, a...</td>\n",
       "    </tr>\n",
       "  </tbody>\n",
       "</table>\n",
       "</div>"
      ],
      "text/plain": [
       "                                                mail label  \\\n",
       "0  Subject: naturally irresistible your corporate...  spam   \n",
       "1  Subject: the stock trading gunslinger  fanny i...  spam   \n",
       "2  Subject: unbelievable new homes made easy  im ...  spam   \n",
       "3  Subject: 4 color printing special  request add...  spam   \n",
       "\n",
       "                                           punct_txt  \\\n",
       "0  Subject naturally irresistible your corporate ...   \n",
       "1  Subject the stock trading gunslinger  fanny is...   \n",
       "2  Subject unbelievable new homes made easy  im w...   \n",
       "3  Subject  color printing special  request addit...   \n",
       "\n",
       "                                             low_txt  \\\n",
       "0  subject naturally irresistible your corporate ...   \n",
       "1  subject the stock trading gunslinger  fanny is...   \n",
       "2  subject unbelievable new homes made easy  im w...   \n",
       "3  subject  color printing special  request addit...   \n",
       "\n",
       "                                             tok_txt  \n",
       "0  [subject, naturally, irresistible, your, corpo...  \n",
       "1  [subject, the, stock, trading, gunslinger, fan...  \n",
       "2  [subject, unbelievable, new, homes, made, easy...  \n",
       "3  [subject, color, printing, special, request, a...  "
      ]
     },
     "execution_count": 41,
     "metadata": {},
     "output_type": "execute_result"
    }
   ],
   "source": [
    "def tokenizer(txt):\n",
    "    tokens = word_tokenize(txt)\n",
    "    return tokens\n",
    "df['tok_txt'] = df['low_txt'].apply(lambda x: tokenizer(x))\n",
    "df.head(4)"
   ]
  },
  {
   "cell_type": "code",
   "execution_count": 42,
   "metadata": {},
   "outputs": [],
   "source": [
    "stop_w = pd.read_csv('YOUR_PATH/stopwords.csv')\n",
    "stopwords = list(stop_w['x'])"
   ]
  },
  {
   "attachments": {},
   "cell_type": "markdown",
   "metadata": {},
   "source": [
    "Stop word removal"
   ]
  },
  {
   "cell_type": "code",
   "execution_count": 43,
   "metadata": {},
   "outputs": [
    {
     "data": {
      "text/html": [
       "<div>\n",
       "<style scoped>\n",
       "    .dataframe tbody tr th:only-of-type {\n",
       "        vertical-align: middle;\n",
       "    }\n",
       "\n",
       "    .dataframe tbody tr th {\n",
       "        vertical-align: top;\n",
       "    }\n",
       "\n",
       "    .dataframe thead th {\n",
       "        text-align: right;\n",
       "    }\n",
       "</style>\n",
       "<table border=\"1\" class=\"dataframe\">\n",
       "  <thead>\n",
       "    <tr style=\"text-align: right;\">\n",
       "      <th></th>\n",
       "      <th>mail</th>\n",
       "      <th>label</th>\n",
       "      <th>punct_txt</th>\n",
       "      <th>low_txt</th>\n",
       "      <th>tok_txt</th>\n",
       "      <th>stop_txt</th>\n",
       "    </tr>\n",
       "  </thead>\n",
       "  <tbody>\n",
       "    <tr>\n",
       "      <th>0</th>\n",
       "      <td>Subject: naturally irresistible your corporate...</td>\n",
       "      <td>spam</td>\n",
       "      <td>Subject naturally irresistible your corporate ...</td>\n",
       "      <td>subject naturally irresistible your corporate ...</td>\n",
       "      <td>[subject, naturally, irresistible, your, corpo...</td>\n",
       "      <td>[naturally, irresistible, corporate, identity,...</td>\n",
       "    </tr>\n",
       "    <tr>\n",
       "      <th>1</th>\n",
       "      <td>Subject: the stock trading gunslinger  fanny i...</td>\n",
       "      <td>spam</td>\n",
       "      <td>Subject the stock trading gunslinger  fanny is...</td>\n",
       "      <td>subject the stock trading gunslinger  fanny is...</td>\n",
       "      <td>[subject, the, stock, trading, gunslinger, fan...</td>\n",
       "      <td>[stock, trading, gunslinger, fanny, merrill, m...</td>\n",
       "    </tr>\n",
       "    <tr>\n",
       "      <th>2</th>\n",
       "      <td>Subject: unbelievable new homes made easy  im ...</td>\n",
       "      <td>spam</td>\n",
       "      <td>Subject unbelievable new homes made easy  im w...</td>\n",
       "      <td>subject unbelievable new homes made easy  im w...</td>\n",
       "      <td>[subject, unbelievable, new, homes, made, easy...</td>\n",
       "      <td>[unbelievable, homes, made, easy, im, wanting,...</td>\n",
       "    </tr>\n",
       "    <tr>\n",
       "      <th>3</th>\n",
       "      <td>Subject: 4 color printing special  request add...</td>\n",
       "      <td>spam</td>\n",
       "      <td>Subject  color printing special  request addit...</td>\n",
       "      <td>subject  color printing special  request addit...</td>\n",
       "      <td>[subject, color, printing, special, request, a...</td>\n",
       "      <td>[color, printing, special, request, additional...</td>\n",
       "    </tr>\n",
       "  </tbody>\n",
       "</table>\n",
       "</div>"
      ],
      "text/plain": [
       "                                                mail label  \\\n",
       "0  Subject: naturally irresistible your corporate...  spam   \n",
       "1  Subject: the stock trading gunslinger  fanny i...  spam   \n",
       "2  Subject: unbelievable new homes made easy  im ...  spam   \n",
       "3  Subject: 4 color printing special  request add...  spam   \n",
       "\n",
       "                                           punct_txt  \\\n",
       "0  Subject naturally irresistible your corporate ...   \n",
       "1  Subject the stock trading gunslinger  fanny is...   \n",
       "2  Subject unbelievable new homes made easy  im w...   \n",
       "3  Subject  color printing special  request addit...   \n",
       "\n",
       "                                             low_txt  \\\n",
       "0  subject naturally irresistible your corporate ...   \n",
       "1  subject the stock trading gunslinger  fanny is...   \n",
       "2  subject unbelievable new homes made easy  im w...   \n",
       "3  subject  color printing special  request addit...   \n",
       "\n",
       "                                             tok_txt  \\\n",
       "0  [subject, naturally, irresistible, your, corpo...   \n",
       "1  [subject, the, stock, trading, gunslinger, fan...   \n",
       "2  [subject, unbelievable, new, homes, made, easy...   \n",
       "3  [subject, color, printing, special, request, a...   \n",
       "\n",
       "                                            stop_txt  \n",
       "0  [naturally, irresistible, corporate, identity,...  \n",
       "1  [stock, trading, gunslinger, fanny, merrill, m...  \n",
       "2  [unbelievable, homes, made, easy, im, wanting,...  \n",
       "3  [color, printing, special, request, additional...  "
      ]
     },
     "execution_count": 43,
     "metadata": {},
     "output_type": "execute_result"
    }
   ],
   "source": [
    "def remove_stop(txt):\n",
    "    out = [i for i in txt if i not in stopwords]\n",
    "    return out\n",
    "df['stop_txt'] = df['tok_txt'].apply(lambda x: remove_stop(x))\n",
    "df.head(4)"
   ]
  },
  {
   "attachments": {},
   "cell_type": "markdown",
   "metadata": {},
   "source": [
    "Lemmatization"
   ]
  },
  {
   "cell_type": "code",
   "execution_count": 44,
   "metadata": {},
   "outputs": [
    {
     "data": {
      "text/html": [
       "<div>\n",
       "<style scoped>\n",
       "    .dataframe tbody tr th:only-of-type {\n",
       "        vertical-align: middle;\n",
       "    }\n",
       "\n",
       "    .dataframe tbody tr th {\n",
       "        vertical-align: top;\n",
       "    }\n",
       "\n",
       "    .dataframe thead th {\n",
       "        text-align: right;\n",
       "    }\n",
       "</style>\n",
       "<table border=\"1\" class=\"dataframe\">\n",
       "  <thead>\n",
       "    <tr style=\"text-align: right;\">\n",
       "      <th></th>\n",
       "      <th>mail</th>\n",
       "      <th>label</th>\n",
       "      <th>punct_txt</th>\n",
       "      <th>low_txt</th>\n",
       "      <th>tok_txt</th>\n",
       "      <th>stop_txt</th>\n",
       "      <th>lem_txt</th>\n",
       "    </tr>\n",
       "  </thead>\n",
       "  <tbody>\n",
       "    <tr>\n",
       "      <th>0</th>\n",
       "      <td>Subject: naturally irresistible your corporate...</td>\n",
       "      <td>spam</td>\n",
       "      <td>Subject naturally irresistible your corporate ...</td>\n",
       "      <td>subject naturally irresistible your corporate ...</td>\n",
       "      <td>[subject, naturally, irresistible, your, corpo...</td>\n",
       "      <td>[naturally, irresistible, corporate, identity,...</td>\n",
       "      <td>[naturally, irresistible, corporate, identity,...</td>\n",
       "    </tr>\n",
       "    <tr>\n",
       "      <th>1</th>\n",
       "      <td>Subject: the stock trading gunslinger  fanny i...</td>\n",
       "      <td>spam</td>\n",
       "      <td>Subject the stock trading gunslinger  fanny is...</td>\n",
       "      <td>subject the stock trading gunslinger  fanny is...</td>\n",
       "      <td>[subject, the, stock, trading, gunslinger, fan...</td>\n",
       "      <td>[stock, trading, gunslinger, fanny, merrill, m...</td>\n",
       "      <td>[stock, trading, gunslinger, fanny, merrill, m...</td>\n",
       "    </tr>\n",
       "    <tr>\n",
       "      <th>2</th>\n",
       "      <td>Subject: unbelievable new homes made easy  im ...</td>\n",
       "      <td>spam</td>\n",
       "      <td>Subject unbelievable new homes made easy  im w...</td>\n",
       "      <td>subject unbelievable new homes made easy  im w...</td>\n",
       "      <td>[subject, unbelievable, new, homes, made, easy...</td>\n",
       "      <td>[unbelievable, homes, made, easy, im, wanting,...</td>\n",
       "      <td>[unbelievable, home, made, easy, im, wanting, ...</td>\n",
       "    </tr>\n",
       "    <tr>\n",
       "      <th>3</th>\n",
       "      <td>Subject: 4 color printing special  request add...</td>\n",
       "      <td>spam</td>\n",
       "      <td>Subject  color printing special  request addit...</td>\n",
       "      <td>subject  color printing special  request addit...</td>\n",
       "      <td>[subject, color, printing, special, request, a...</td>\n",
       "      <td>[color, printing, special, request, additional...</td>\n",
       "      <td>[color, printing, special, request, additional...</td>\n",
       "    </tr>\n",
       "  </tbody>\n",
       "</table>\n",
       "</div>"
      ],
      "text/plain": [
       "                                                mail label  \\\n",
       "0  Subject: naturally irresistible your corporate...  spam   \n",
       "1  Subject: the stock trading gunslinger  fanny i...  spam   \n",
       "2  Subject: unbelievable new homes made easy  im ...  spam   \n",
       "3  Subject: 4 color printing special  request add...  spam   \n",
       "\n",
       "                                           punct_txt  \\\n",
       "0  Subject naturally irresistible your corporate ...   \n",
       "1  Subject the stock trading gunslinger  fanny is...   \n",
       "2  Subject unbelievable new homes made easy  im w...   \n",
       "3  Subject  color printing special  request addit...   \n",
       "\n",
       "                                             low_txt  \\\n",
       "0  subject naturally irresistible your corporate ...   \n",
       "1  subject the stock trading gunslinger  fanny is...   \n",
       "2  subject unbelievable new homes made easy  im w...   \n",
       "3  subject  color printing special  request addit...   \n",
       "\n",
       "                                             tok_txt  \\\n",
       "0  [subject, naturally, irresistible, your, corpo...   \n",
       "1  [subject, the, stock, trading, gunslinger, fan...   \n",
       "2  [subject, unbelievable, new, homes, made, easy...   \n",
       "3  [subject, color, printing, special, request, a...   \n",
       "\n",
       "                                            stop_txt  \\\n",
       "0  [naturally, irresistible, corporate, identity,...   \n",
       "1  [stock, trading, gunslinger, fanny, merrill, m...   \n",
       "2  [unbelievable, homes, made, easy, im, wanting,...   \n",
       "3  [color, printing, special, request, additional...   \n",
       "\n",
       "                                             lem_txt  \n",
       "0  [naturally, irresistible, corporate, identity,...  \n",
       "1  [stock, trading, gunslinger, fanny, merrill, m...  \n",
       "2  [unbelievable, home, made, easy, im, wanting, ...  \n",
       "3  [color, printing, special, request, additional...  "
      ]
     },
     "execution_count": 44,
     "metadata": {},
     "output_type": "execute_result"
    }
   ],
   "source": [
    "wordnet_lemmatizer = WordNetLemmatizer()\n",
    "def lemmatizer(txt):\n",
    "    lemm_txt = [wordnet_lemmatizer.lemmatize(word) for word in txt]\n",
    "    return lemm_txt\n",
    "df['lem_txt'] = df['stop_txt'].apply(lambda x: lemmatizer(x))\n",
    "df.head(4)"
   ]
  },
  {
   "cell_type": "code",
   "execution_count": 45,
   "metadata": {},
   "outputs": [
    {
     "data": {
      "text/html": [
       "<div>\n",
       "<style scoped>\n",
       "    .dataframe tbody tr th:only-of-type {\n",
       "        vertical-align: middle;\n",
       "    }\n",
       "\n",
       "    .dataframe tbody tr th {\n",
       "        vertical-align: top;\n",
       "    }\n",
       "\n",
       "    .dataframe thead th {\n",
       "        text-align: right;\n",
       "    }\n",
       "</style>\n",
       "<table border=\"1\" class=\"dataframe\">\n",
       "  <thead>\n",
       "    <tr style=\"text-align: right;\">\n",
       "      <th></th>\n",
       "      <th>label</th>\n",
       "      <th>raw_txt</th>\n",
       "      <th>clean_txt</th>\n",
       "    </tr>\n",
       "  </thead>\n",
       "  <tbody>\n",
       "    <tr>\n",
       "      <th>0</th>\n",
       "      <td>spam</td>\n",
       "      <td>Subject: naturally irresistible your corporate...</td>\n",
       "      <td>[naturally, irresistible, corporate, identity,...</td>\n",
       "    </tr>\n",
       "    <tr>\n",
       "      <th>1</th>\n",
       "      <td>spam</td>\n",
       "      <td>Subject: the stock trading gunslinger  fanny i...</td>\n",
       "      <td>[stock, trading, gunslinger, fanny, merrill, m...</td>\n",
       "    </tr>\n",
       "    <tr>\n",
       "      <th>2</th>\n",
       "      <td>spam</td>\n",
       "      <td>Subject: unbelievable new homes made easy  im ...</td>\n",
       "      <td>[unbelievable, home, made, easy, im, wanting, ...</td>\n",
       "    </tr>\n",
       "    <tr>\n",
       "      <th>3</th>\n",
       "      <td>spam</td>\n",
       "      <td>Subject: 4 color printing special  request add...</td>\n",
       "      <td>[color, printing, special, request, additional...</td>\n",
       "    </tr>\n",
       "  </tbody>\n",
       "</table>\n",
       "</div>"
      ],
      "text/plain": [
       "  label                                            raw_txt  \\\n",
       "0  spam  Subject: naturally irresistible your corporate...   \n",
       "1  spam  Subject: the stock trading gunslinger  fanny i...   \n",
       "2  spam  Subject: unbelievable new homes made easy  im ...   \n",
       "3  spam  Subject: 4 color printing special  request add...   \n",
       "\n",
       "                                           clean_txt  \n",
       "0  [naturally, irresistible, corporate, identity,...  \n",
       "1  [stock, trading, gunslinger, fanny, merrill, m...  \n",
       "2  [unbelievable, home, made, easy, im, wanting, ...  \n",
       "3  [color, printing, special, request, additional...  "
      ]
     },
     "execution_count": 45,
     "metadata": {},
     "output_type": "execute_result"
    }
   ],
   "source": [
    "df2 = df[['label', 'mail', 'lem_txt']].copy()\n",
    "df2.rename(columns = {'lem_txt':'clean_txt', 'mail': 'raw_txt'}, inplace = True)\n",
    "df2.head(4)\n"
   ]
  },
  {
   "attachments": {},
   "cell_type": "markdown",
   "metadata": {},
   "source": [
    "From text to Document-Term Matrix"
   ]
  },
  {
   "cell_type": "code",
   "execution_count": 46,
   "metadata": {},
   "outputs": [],
   "source": [
    "def concatenate(txt):\n",
    "   txt =  \" \".join(txt)\n",
    "   return txt\n",
    "\n",
    "for i in range(0,len(df['label'])):\n",
    "   df2['clean_txt'][i] = concatenate(df2['clean_txt'][i])\n"
   ]
  },
  {
   "cell_type": "code",
   "execution_count": 47,
   "metadata": {},
   "outputs": [],
   "source": [
    "countvec = CountVectorizer()\n",
    "docs = list(df2['clean_txt'])"
   ]
  },
  {
   "attachments": {},
   "cell_type": "markdown",
   "metadata": {},
   "source": [
    "Binarization of Document Term Matrix"
   ]
  },
  {
   "cell_type": "code",
   "execution_count": 48,
   "metadata": {},
   "outputs": [],
   "source": [
    "sklearn_dtm = countvec.fit_transform(docs)\n",
    "dtm = pd.DataFrame(sklearn_dtm.toarray(), columns=countvec.get_feature_names_out())\n",
    "dtm = dtm/dtm.max()\n",
    "dtm = np.ceil(dtm)\n",
    "dtm = dtm.astype(int)"
   ]
  },
  {
   "attachments": {},
   "cell_type": "markdown",
   "metadata": {},
   "source": [
    "Dataset split into train/test"
   ]
  },
  {
   "cell_type": "code",
   "execution_count": 49,
   "metadata": {},
   "outputs": [],
   "source": [
    "train_dtm, test_dtm = train_test_split(dtm, test_size=0.5, random_state=123)\n",
    "label_train = list(df2['label'][train_dtm.index])\n",
    "label_test = list(df2['label'][test_dtm.index])"
   ]
  },
  {
   "attachments": {},
   "cell_type": "markdown",
   "metadata": {},
   "source": [
    "Dictionary extraction"
   ]
  },
  {
   "cell_type": "code",
   "execution_count": 50,
   "metadata": {},
   "outputs": [
    {
     "data": {
      "text/html": [
       "<div>\n",
       "<style scoped>\n",
       "    .dataframe tbody tr th:only-of-type {\n",
       "        vertical-align: middle;\n",
       "    }\n",
       "\n",
       "    .dataframe tbody tr th {\n",
       "        vertical-align: top;\n",
       "    }\n",
       "\n",
       "    .dataframe thead th {\n",
       "        text-align: right;\n",
       "    }\n",
       "</style>\n",
       "<table border=\"1\" class=\"dataframe\">\n",
       "  <thead>\n",
       "    <tr style=\"text-align: right;\">\n",
       "      <th></th>\n",
       "      <th>word</th>\n",
       "      <th>freq</th>\n",
       "    </tr>\n",
       "  </thead>\n",
       "  <tbody>\n",
       "    <tr>\n",
       "      <th>0</th>\n",
       "      <td>aa</td>\n",
       "      <td>14</td>\n",
       "    </tr>\n",
       "    <tr>\n",
       "      <th>1</th>\n",
       "      <td>aaa</td>\n",
       "      <td>3</td>\n",
       "    </tr>\n",
       "    <tr>\n",
       "      <th>2</th>\n",
       "      <td>aaaenerfax</td>\n",
       "      <td>1</td>\n",
       "    </tr>\n",
       "    <tr>\n",
       "      <th>3</th>\n",
       "      <td>aadedeji</td>\n",
       "      <td>0</td>\n",
       "    </tr>\n",
       "    <tr>\n",
       "      <th>4</th>\n",
       "      <td>aagrawal</td>\n",
       "      <td>1</td>\n",
       "    </tr>\n",
       "    <tr>\n",
       "      <th>...</th>\n",
       "      <td>...</td>\n",
       "      <td>...</td>\n",
       "    </tr>\n",
       "    <tr>\n",
       "      <th>30558</th>\n",
       "      <td>zymg</td>\n",
       "      <td>3</td>\n",
       "    </tr>\n",
       "    <tr>\n",
       "      <th>30559</th>\n",
       "      <td>zzmacmac</td>\n",
       "      <td>0</td>\n",
       "    </tr>\n",
       "    <tr>\n",
       "      <th>30560</th>\n",
       "      <td>zzn</td>\n",
       "      <td>1</td>\n",
       "    </tr>\n",
       "    <tr>\n",
       "      <th>30561</th>\n",
       "      <td>zzncacst</td>\n",
       "      <td>1</td>\n",
       "    </tr>\n",
       "    <tr>\n",
       "      <th>30562</th>\n",
       "      <td>zzzz</td>\n",
       "      <td>1</td>\n",
       "    </tr>\n",
       "  </tbody>\n",
       "</table>\n",
       "<p>30563 rows × 2 columns</p>\n",
       "</div>"
      ],
      "text/plain": [
       "             word  freq\n",
       "0              aa    14\n",
       "1             aaa     3\n",
       "2      aaaenerfax     1\n",
       "3        aadedeji     0\n",
       "4        aagrawal     1\n",
       "...           ...   ...\n",
       "30558        zymg     3\n",
       "30559    zzmacmac     0\n",
       "30560         zzn     1\n",
       "30561    zzncacst     1\n",
       "30562        zzzz     1\n",
       "\n",
       "[30563 rows x 2 columns]"
      ]
     },
     "execution_count": 50,
     "metadata": {},
     "output_type": "execute_result"
    }
   ],
   "source": [
    "freq = np.ravel(train_dtm.sum(axis=0))\n",
    "words_dictio =  train_dtm.columns.values\n",
    "dictio = pd.DataFrame({'word': words_dictio, 'freq': freq}, columns=['word','freq'])\n",
    "dictio"
   ]
  },
  {
   "attachments": {},
   "cell_type": "markdown",
   "metadata": {},
   "source": [
    "Feature selection by Log_Ratio criterion "
   ]
  },
  {
   "cell_type": "code",
   "execution_count": null,
   "metadata": {},
   "outputs": [],
   "source": [
    "train_dtm.index = label_train\n",
    "train_dtm.head()"
   ]
  },
  {
   "cell_type": "code",
   "execution_count": null,
   "metadata": {},
   "outputs": [],
   "source": [
    "dict_spam = dictio.copy()\n",
    "dict_ham = dictio.copy()\n",
    "\n",
    "for i in range(0,len(dict_spam)):\n",
    "    dict_spam['freq'][i] = train_dtm.loc[train_dtm.index == 'spam',dict_spam['word'][i]].sum()\n",
    "dict_spam\n",
    "\n",
    "dict_ham['freq'] = dictio['freq'] - dict_spam['freq']"
   ]
  },
  {
   "attachments": {},
   "cell_type": "markdown",
   "metadata": {},
   "source": [
    "Conditional probabilities"
   ]
  },
  {
   "cell_type": "code",
   "execution_count": null,
   "metadata": {},
   "outputs": [],
   "source": [
    "alfa = 0.001 # smoothing parameter\n",
    "\n",
    "tot_spam = dict_spam['freq'].sum()\n",
    "tot_ham = dict_ham['freq'].sum()\n",
    "dict_spam['prob_cond'] = (dict_spam['freq'] + alfa)/(tot_spam + 2*alfa)\n",
    "dict_ham['prob_cond'] = (dict_ham['freq'] + alfa)/(tot_ham + 2*alfa)"
   ]
  },
  {
   "cell_type": "code",
   "execution_count": null,
   "metadata": {},
   "outputs": [],
   "source": [
    "dictio['spam_prob'] = dict_spam['prob_cond']\n",
    "dictio['ham_prob'] = dict_ham['prob_cond']\n",
    "dictio"
   ]
  },
  {
   "attachments": {},
   "cell_type": "markdown",
   "metadata": {},
   "source": [
    "Log_Ratio evaluation"
   ]
  },
  {
   "cell_type": "code",
   "execution_count": null,
   "metadata": {},
   "outputs": [],
   "source": [
    "log_words = pd.DataFrame({'words':dictio['word'], 'log_prob':0})\n",
    "log_words['log_prob'] = abs(np.log10(dictio['spam_prob']/dictio['ham_prob']))\n"
   ]
  },
  {
   "attachments": {},
   "cell_type": "markdown",
   "metadata": {},
   "source": [
    "Lambda treshold"
   ]
  },
  {
   "cell_type": "code",
   "execution_count": null,
   "metadata": {},
   "outputs": [],
   "source": [
    "seq_perc = np.arange(0,1,0.05)\n",
    "q = np.quantile(log_words['log_prob'], seq_perc)\n",
    "treshold = q[17]\n",
    "q"
   ]
  },
  {
   "cell_type": "code",
   "execution_count": null,
   "metadata": {},
   "outputs": [],
   "source": [
    "deleted_word = list()\n",
    "\n",
    "for i in range(0,len(log_words)):\n",
    "    if log_words['log_prob'][i] <= treshold:\n",
    "        deleted_word.append(log_words['words'][i])"
   ]
  },
  {
   "cell_type": "code",
   "execution_count": null,
   "metadata": {},
   "outputs": [],
   "source": [
    "len(dictio['word'])- len(deleted_word)"
   ]
  },
  {
   "cell_type": "code",
   "execution_count": null,
   "metadata": {},
   "outputs": [],
   "source": [
    "train_dtm = train_dtm.drop(deleted_word, axis=1)\n",
    "test_dtm = test_dtm.drop(deleted_word, axis=1)"
   ]
  },
  {
   "cell_type": "code",
   "execution_count": null,
   "metadata": {},
   "outputs": [],
   "source": [
    "train_dtm"
   ]
  },
  {
   "attachments": {},
   "cell_type": "markdown",
   "metadata": {},
   "source": [
    "Filtering by findFreqTerms"
   ]
  },
  {
   "cell_type": "code",
   "execution_count": 51,
   "metadata": {},
   "outputs": [
    {
     "data": {
      "text/html": [
       "<div>\n",
       "<style scoped>\n",
       "    .dataframe tbody tr th:only-of-type {\n",
       "        vertical-align: middle;\n",
       "    }\n",
       "\n",
       "    .dataframe tbody tr th {\n",
       "        vertical-align: top;\n",
       "    }\n",
       "\n",
       "    .dataframe thead th {\n",
       "        text-align: right;\n",
       "    }\n",
       "</style>\n",
       "<table border=\"1\" class=\"dataframe\">\n",
       "  <thead>\n",
       "    <tr style=\"text-align: right;\">\n",
       "      <th></th>\n",
       "      <th>word</th>\n",
       "      <th>freq</th>\n",
       "    </tr>\n",
       "  </thead>\n",
       "  <tbody>\n",
       "    <tr>\n",
       "      <th>49</th>\n",
       "      <td>ability</td>\n",
       "      <td>77</td>\n",
       "    </tr>\n",
       "    <tr>\n",
       "      <th>125</th>\n",
       "      <td>academic</td>\n",
       "      <td>60</td>\n",
       "    </tr>\n",
       "    <tr>\n",
       "      <th>151</th>\n",
       "      <td>access</td>\n",
       "      <td>204</td>\n",
       "    </tr>\n",
       "    <tr>\n",
       "      <th>185</th>\n",
       "      <td>account</td>\n",
       "      <td>125</td>\n",
       "    </tr>\n",
       "    <tr>\n",
       "      <th>191</th>\n",
       "      <td>accounting</td>\n",
       "      <td>48</td>\n",
       "    </tr>\n",
       "    <tr>\n",
       "      <th>...</th>\n",
       "      <td>...</td>\n",
       "      <td>...</td>\n",
       "    </tr>\n",
       "    <tr>\n",
       "      <th>30182</th>\n",
       "      <td>yahoo</td>\n",
       "      <td>48</td>\n",
       "    </tr>\n",
       "    <tr>\n",
       "      <th>30218</th>\n",
       "      <td>year</td>\n",
       "      <td>419</td>\n",
       "    </tr>\n",
       "    <tr>\n",
       "      <th>30236</th>\n",
       "      <td>yesterday</td>\n",
       "      <td>102</td>\n",
       "    </tr>\n",
       "    <tr>\n",
       "      <th>30276</th>\n",
       "      <td>york</td>\n",
       "      <td>68</td>\n",
       "    </tr>\n",
       "    <tr>\n",
       "      <th>30461</th>\n",
       "      <td>zimin</td>\n",
       "      <td>130</td>\n",
       "    </tr>\n",
       "  </tbody>\n",
       "</table>\n",
       "<p>1044 rows × 2 columns</p>\n",
       "</div>"
      ],
      "text/plain": [
       "             word  freq\n",
       "49        ability    77\n",
       "125      academic    60\n",
       "151        access   204\n",
       "185       account   125\n",
       "191    accounting    48\n",
       "...           ...   ...\n",
       "30182       yahoo    48\n",
       "30218        year   419\n",
       "30236   yesterday   102\n",
       "30276        york    68\n",
       "30461       zimin   130\n",
       "\n",
       "[1044 rows x 2 columns]"
      ]
     },
     "execution_count": 51,
     "metadata": {},
     "output_type": "execute_result"
    }
   ],
   "source": [
    "def find_freq_words(x, low_b):\n",
    "    freq_w = list()\n",
    "    for i in range(0,len(x['word'])):\n",
    "        word_freq = x['freq'][i]\n",
    "        if word_freq <= low_b:\n",
    "            x = x.drop(i)\n",
    "    return x   \n",
    "new_dictio = find_freq_words(dictio, 40)\n",
    "new_dictio"
   ]
  },
  {
   "cell_type": "code",
   "execution_count": 52,
   "metadata": {},
   "outputs": [],
   "source": [
    "filt_words = list(new_dictio['word'])\n",
    "words = list(dictio['word'])\n",
    "words_removed = [elem for elem in words if elem not in filt_words]"
   ]
  },
  {
   "cell_type": "code",
   "execution_count": 53,
   "metadata": {},
   "outputs": [],
   "source": [
    "train_dtm = train_dtm.drop(words_removed, axis=1)\n",
    "test_dtm = test_dtm.drop(words_removed, axis=1)"
   ]
  },
  {
   "attachments": {},
   "cell_type": "markdown",
   "metadata": {},
   "source": [
    "Bernoulli Naive Bayes Classifier"
   ]
  },
  {
   "cell_type": "code",
   "execution_count": 54,
   "metadata": {},
   "outputs": [
    {
     "name": "stdout",
     "output_type": "stream",
     "text": [
      "              precision    recall  f1-score   support\n",
      "\n",
      "         ham       0.93      1.00      0.96      2029\n",
      "        spam       0.99      0.81      0.90       835\n",
      "\n",
      "    accuracy                           0.94      2864\n",
      "   macro avg       0.96      0.91      0.93      2864\n",
      "weighted avg       0.95      0.94      0.94      2864\n",
      "\n"
     ]
    }
   ],
   "source": [
    "model = BernoulliNB()\n",
    "model.fit(train_dtm, label_train)\n",
    "test = model.predict(test_dtm)\n",
    "report = classification_report(test, label_test)\n",
    "print(report)"
   ]
  },
  {
   "cell_type": "code",
   "execution_count": 55,
   "metadata": {},
   "outputs": [
    {
     "data": {
      "text/plain": [
       "array([[2025,    4],\n",
       "       [ 155,  680]])"
      ]
     },
     "execution_count": 55,
     "metadata": {},
     "output_type": "execute_result"
    }
   ],
   "source": [
    "confusion_matrix(test, label_test)"
   ]
  },
  {
   "cell_type": "code",
   "execution_count": 56,
   "metadata": {},
   "outputs": [
    {
     "data": {
      "image/png": "[encoded data removed]",
      "text/plain": [
       "<Figure size 640x480 with 2 Axes>"
      ]
     },
     "metadata": {},
     "output_type": "display_data"
    }
   ],
   "source": [
    "cm = confusion_matrix(label_test, test, labels=model.classes_)\n",
    "disp = ConfusionMatrixDisplay(confusion_matrix = cm, display_labels=model.classes_)\n",
    "disp.plot()\n",
    "plt.show()"
   ]
  }
 ],
 "metadata": {
  "kernelspec": {
   "display_name": "Python 3",
   "language": "python",
   "name": "python3"
  },
  "language_info": {
   "codemirror_mode": {
    "name": "ipython",
    "version": 3
   },
   "file_extension": ".py",
   "mimetype": "text/x-python",
   "name": "python",
   "nbconvert_exporter": "python",
   "pygments_lexer": "ipython3",
   "version": "3.10.6"
  },
  "orig_nbformat": 4,
  "vscode": {
   "interpreter": {
    "hash": "916dbcbb3f70747c44a77c7bcd40155683ae19c65e1c03b4aa3499c5328201f1"
   }
  }
 },
 "nbformat": 4,
 "nbformat_minor": 2
}
